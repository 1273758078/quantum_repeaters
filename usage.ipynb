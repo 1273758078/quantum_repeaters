{
 "cells": [
  {
   "cell_type": "code",
   "execution_count": 1,
   "id": "80939b38-00a9-40db-9a16-2ac462295f5e",
   "metadata": {},
   "outputs": [],
   "source": [
    "import numpy as np\n",
    "import networkx as nx\n",
    "import json\n",
    "\n",
    "import tqdm as tqdm\n",
    "\n",
    "from simplequantnetsim.protocols import MPC_protocol, MPG_protocol, SP_protocol\n",
    "from simplequantnetsim.graph import network, set_edge_length, update_graph_params, reset_graph_state, reset_graph_usage, remove_nodes\n",
    "\n",
    "import matplotlib.pyplot as plt\n",
    "from matplotlib.ticker import FormatStrFormatter\n",
    "from networkx.drawing.layout import *\n",
    "from networkx.readwrite import json_graph"
   ]
  },
  {
   "cell_type": "markdown",
   "id": "c9121964",
   "metadata": {},
   "source": [
    "# Helpers"
   ]
  },
  {
   "cell_type": "markdown",
   "id": "9ee3a594",
   "metadata": {},
   "source": [
    "## Draw network"
   ]
  },
  {
   "cell_type": "code",
   "execution_count": 2,
   "id": "2705f95c",
   "metadata": {},
   "outputs": [],
   "source": [
    "draw_options = {\n",
    "    \"l\": {\n",
    "        \"with_labels\": True,\n",
    "        \"node_size\": 1000,\n",
    "        \"font_size\": 10,\n",
    "        \"label_offset\": 0.25,\n",
    "        \"label_size\": 8\n",
    "    }, # 5x5\n",
    "    \"m\": {\n",
    "        \"with_labels\": True,\n",
    "        \"node_size\": 500,\n",
    "        \"font_size\": 8,\n",
    "        \"label_offset\": 0.35,\n",
    "        \"label_size\": 6\n",
    "    }, # 9x9\n",
    "    \"s\": {\n",
    "        \"with_labels\": False,\n",
    "        \"node_size\": 250,\n",
    "        \"font_size\": 0,\n",
    "        \"label_offset\": 0,\n",
    "        \"label_size\": 6\n",
    "    }, # 15x15\n",
    "    \"xs\": {\n",
    "        \"with_labels\": False,\n",
    "        \"node_size\": 80,\n",
    "        \"font_size\": 0,        \n",
    "        \"label_offset\": 0,        \n",
    "        \"label_size\": 4\n",
    "    } # 25x25\n",
    "}\n",
    "\n",
    "def draw_network(D, size=\"l\"):\n",
    "    usage = nx.get_node_attributes(D, \"usage_fraction\")\n",
    "    pos = dict((n, n) for n in D.nodes())  # grid layout\n",
    "\n",
    "    cmap = plt.cm.Blues\n",
    "    cmap.set_under(color=\"white\")  # display zero fraction (under 0.0000001) as white\n",
    "\n",
    "    nc = nx.draw(\n",
    "        D,\n",
    "        pos=pos,\n",
    "        with_labels=draw_options[size][\"with_labels\"],\n",
    "        node_size=draw_options[size][\"node_size\"],\n",
    "        font_size=draw_options[size][\"font_size\"],\n",
    "        node_color=list(usage.values()),\n",
    "        vmin=0.0000001,\n",
    "        cmap=cmap,\n",
    "    )\n",
    "\n",
    "    # colorbar\n",
    "    ax = plt.gca()\n",
    "    PCM = ax.get_children()[0]\n",
    "    cbar = plt.colorbar(PCM, ax=ax)\n",
    "    cbar.set_label(\n",
    "        \"Usage fraction (/rep)\", rotation=270, fontsize=12, labelpad=15\n",
    "    )\n",
    "\n",
    "    # usage labels\n",
    "    pos_usage = {}\n",
    "    for node, coords in pos.items():\n",
    "        pos_usage[node] = (coords[0] + draw_options[size][\"label_offset\"], coords[1] - draw_options[size][\"label_offset\"])\n",
    "\n",
    "    rounded_usage = {}\n",
    "    for node, attr in usage.items():\n",
    "        rounded_usage[node] = round(attr, 2)\n",
    "\n",
    "    nx.draw_networkx_labels(D, pos_usage, labels=rounded_usage, font_size=draw_options[size][\"label_size\"])"
   ]
  },
  {
   "cell_type": "markdown",
   "id": "72a25376",
   "metadata": {},
   "source": [
    "## Plot ER v min usage"
   ]
  },
  {
   "cell_type": "code",
   "execution_count": 3,
   "id": "811d51d9",
   "metadata": {},
   "outputs": [],
   "source": [
    "def plot_removed_repeaters(min_usage_range, ER_range, repeaters_removed, base_ER):\n",
    "    fontsize = 12\n",
    "    plt.figure(figsize=(10, 6), dpi=600)\n",
    "    plt.grid(linewidth=0.5)\n",
    "\n",
    "    ax = plt.gca()\n",
    "    sc = ax.scatter(min_usage_range, ER_range, c=repeaters_removed, marker=\"x\", s=40)\n",
    "\n",
    "    plt.tick_params(labelsize=fontsize)\n",
    "    plt.xlabel(\"Minimum usage fraction (/rep)\", fontsize=fontsize)\n",
    "    plt.ylabel(\"ER ($\\mathregular{GHZ}_5/\\ \\\\mathregular{T_{slot}}$)\", fontsize=fontsize)\n",
    "\n",
    "    for i, txt in enumerate(repeaters_removed):\n",
    "        ax.annotate(\n",
    "            txt,\n",
    "            xy=(min_usage_range[i], ER_range[i]),\n",
    "            xycoords=\"data\",\n",
    "            xytext=(3, -6),\n",
    "            textcoords=\"offset points\",\n",
    "            fontsize=6,\n",
    "            weight='bold'\n",
    "        )\n",
    "\n",
    "    # plot original ER\n",
    "    plt.axhline(\n",
    "        y=base_ER,\n",
    "        color=\"black\",\n",
    "        linestyle=\"--\",\n",
    "        linewidth=\"1\",\n",
    "        label=\"Base ER\",\n",
    "    )\n",
    "    plt.legend(fontsize=10)\n",
    "\n",
    "    cbar = plt.colorbar(sc)\n",
    "    cbar.set_label(\n",
    "        \"No. repeaters removed\", rotation=270, fontsize=12, labelpad=15\n",
    "    )"
   ]
  },
  {
   "cell_type": "markdown",
   "id": "4c8fed36",
   "metadata": {},
   "source": [
    "## Plot ER v Length"
   ]
  },
  {
   "cell_type": "code",
   "execution_count": 4,
   "id": "e4ed0ba6",
   "metadata": {},
   "outputs": [],
   "source": [
    "def plot_er_len(repeaters_removed_list, ER_list, lengths, loss_dB, p_op, x_lim=30):\n",
    "    fontsize = 12\n",
    "    cols = [\"gray\", \"g\", \"b\", \"orange\", \"r\", \"k\", \"purple\"] + [\"k\"] * 100\n",
    "\n",
    "    plt.figure(figsize=(8, 6), dpi=600)\n",
    "    plt.grid(linewidth=0.5)\n",
    "    \n",
    "    for i in range(len(repeaters_removed_list)):\n",
    "        y = plt.plot(\n",
    "            lengths,\n",
    "            ER_list[i],\n",
    "            color=cols[i],\n",
    "            marker=\"x\",\n",
    "            linestyle=\"None\",\n",
    "            markersize=3,\n",
    "            label=repeaters_removed_list[i],\n",
    "        )\n",
    "    plt.yscale(\"log\")\n",
    "    plt.legend(fontsize=10, title=\"No. repeaters removed\", title_fontsize=8)\n",
    "\n",
    "    plt.tick_params(labelsize=fontsize)\n",
    "\n",
    "    plt.xlabel(\"Edge length (km)\", fontsize=fontsize)\n",
    "    plt.ylabel(\"ER ($\\mathregular{GHZ}_5/\\ \\\\mathregular{T_{slot}}$)\", fontsize=fontsize)\n",
    "\n",
    "    ax = plt.gca()\n",
    "    l_ticks = ax.get_xticks()\n",
    "    ax.set_xlim([0, x_lim])\n",
    "    ax.set_ylim([0.0001, 1])\n",
    "\n",
    "    length2p_ph = lambda l: 10 ** -(loss_dB * l / 10)\n",
    "    p_ph2length = lambda p: -(np.log10(p) * 10) / loss_dB\n",
    "    ax2 = ax.secondary_xaxis(-0.15, functions=(length2p_ph, p_ph2length))\n",
    "    ax2.set_xlabel(\"Photon transmission probability $p_{ph}$\", fontsize=fontsize)\n",
    "    p_ph_ticks = length2p_ph(l_ticks)\n",
    "    ax2.set_xticks(p_ph_ticks)\n",
    "    ax2.xaxis.set_major_formatter(FormatStrFormatter(\"%.2f\"))\n",
    "    ax2.xaxis.set_tick_params(labelsize=fontsize)\n",
    "\n",
    "    length2p_e = lambda l: length2p_ph(l) * p_op\n",
    "    p_e2length = lambda p: p_ph2length(p / p_op)\n",
    "    ax3 = ax.secondary_xaxis(-0.3, functions=(length2p_e, p_e2length))\n",
    "    ax3.set_xlabel(\"Entanglement link generation probability $p_e$\", fontsize=fontsize)\n",
    "    p_e_ticks = length2p_e(l_ticks)\n",
    "    ax3.set_xticks(p_e_ticks)\n",
    "    ax3.xaxis.set_major_formatter(FormatStrFormatter(\"%.2f\"))\n",
    "    ax3.xaxis.set_tick_params(labelsize=fontsize)"
   ]
  },
  {
   "cell_type": "markdown",
   "id": "73dc2eec",
   "metadata": {},
   "source": [
    "## Save and load data"
   ]
  },
  {
   "cell_type": "code",
   "execution_count": 5,
   "id": "3de4dbee",
   "metadata": {},
   "outputs": [],
   "source": [
    "def save_data(filename, data):\n",
    "    with open(\"data/\" + filename + \".json\", \"w\") as file:\n",
    "        file.write(json.dumps(data))\n",
    "\n",
    "def load_data(filename):\n",
    "    with open(\"data/\" + filename + \".json\", \"r\") as file:\n",
    "        return json.loads(file.read())"
   ]
  },
  {
   "attachments": {},
   "cell_type": "markdown",
   "id": "17baee04",
   "metadata": {},
   "source": [
    "# Usage"
   ]
  },
  {
   "cell_type": "code",
   "execution_count": 6,
   "id": "c7c52bef",
   "metadata": {},
   "outputs": [
    {
     "name": "stderr",
     "output_type": "stream",
     "text": [
      "c:\\Users\\ROG\\Desktop\\quantum_repeaters\\simplequantnetsim\\protocols.py:118: FutureWarning: steiner_tree will change default method from 'kou' to 'mehlhorn'in version 3.2.\n",
      "Set the `method` kwarg to remove this warning.\n",
      "  K = steiner_tree(\n",
      "c:\\Users\\ROG\\Desktop\\quantum_repeaters\\simplequantnetsim\\protocols.py:95: FutureWarning: steiner_tree will change default method from 'kou' to 'mehlhorn'in version 3.2.\n",
      "Set the `method` kwarg to remove this warning.\n",
      "  success = success_protocol(G, H, users, used_nodes, count_fusion)  # protocol specific\n"
     ]
    }
   ],
   "source": [
    "size = 9\n",
    "center = (size - 1) / 2\n",
    "timesteps = 5000\n",
    "reps = 1000\n",
    "length = 1\n",
    "Q_c = 1\n",
    "p_op = 1\n",
    "loss_dB = 0.2\n",
    "protocol = MPC_protocol\n",
    "\n",
    "H = network(size, size)\n",
    "\n",
    "# n = 2 # 靠近中心的程度，0就是在角落，1就是更靠近中心根号2格\n",
    "# users = [\n",
    "#     (center, center),\n",
    "#     (n, n),\n",
    "#     (n, size - 1 - n),\n",
    "#     (size - 1 - n, n),\n",
    "#     (size - 1 - n, size - 1 - n),\n",
    "# ]  # \"source\" for SP & MPG will be the central node\n",
    "users = [8, 4, 18, 1, 3]\n",
    "\n",
    "update_graph_params(H, Qc=Q_c)\n",
    "\n",
    "set_edge_length(H, length, p_op)\n",
    "er, multipartite_gen_time, links_used = protocol(H, users, timesteps, reps, count_fusion=False) # 这里好像可以改fusion计数 True/False 老师说always True，似乎与量子接收器的功能的定义相关"
   ]
  },
  {
   "attachments": {},
   "cell_type": "markdown",
   "id": "c1232caf",
   "metadata": {},
   "source": [
    "## Draw network"
   ]
  },
  {
   "cell_type": "code",
   "execution_count": null,
   "id": "64e4a2f5",
   "metadata": {},
   "outputs": [],
   "source": [
    "nodes = H.nodes(data=True)\n",
    "\n",
    "print(nodes)\n",
    "usage = nx.get_node_attributes(H, \"usage_fraction\")\n",
    "print(list(usage.values()))"
   ]
  },
  {
   "cell_type": "code",
   "execution_count": null,
   "id": "ecf5f289",
   "metadata": {},
   "outputs": [],
   "source": [
    "draw_network(H, \"m\")\n",
    "plt.savefig(\"figures/usage.png\", dpi=600, bbox_inches=\"tight\")"
   ]
  },
  {
   "attachments": {},
   "cell_type": "markdown",
   "id": "ef17abd5",
   "metadata": {},
   "source": [
    "## Save data"
   ]
  },
  {
   "cell_type": "code",
   "execution_count": 7,
   "id": "6273bcf6",
   "metadata": {},
   "outputs": [],
   "source": [
    "data_to_save = {\n",
    "    \"protocol\": str(protocol).split(\" \")[1],\n",
    "    \"size\": size,\n",
    "    \"length\": length,\n",
    "    \"Q_c\": Q_c,\n",
    "    \"p_op\": p_op,\n",
    "    \"loss_dB\": loss_dB,\n",
    "    \"timesteps\": timesteps,\n",
    "    \"reps\": reps,\n",
    "    \"users\": users,\n",
    "    \"ER\": er,\n",
    "    \"links_used\": links_used,\n",
    "    \"network_data\": json_graph.node_link_data(H),\n",
    "}\n",
    "\n",
    "save_data(\"usage/method_reps/5x5/fusion_only/L1\", data_to_save)"
   ]
  },
  {
   "attachments": {},
   "cell_type": "markdown",
   "id": "4c757d0c",
   "metadata": {},
   "source": [
    "## Load and plot data"
   ]
  },
  {
   "cell_type": "code",
   "execution_count": null,
   "id": "9e9b40f8",
   "metadata": {},
   "outputs": [],
   "source": [
    "file_to_open = \"usage/method_reps/5x5/fusion_only/L1\"\n",
    "\n",
    "with open(\"data/\" + file_to_open + \".json\", \"r\") as file:\n",
    "    loaded_data = json.loads(file.read())\n",
    "\n",
    "H_loaded = json_graph.node_link_graph(loaded_data[\"network_data\"])"
   ]
  },
  {
   "cell_type": "code",
   "execution_count": null,
   "id": "eaa91f53",
   "metadata": {},
   "outputs": [],
   "source": [
    "draw_network(H_loaded, \"m\")\n",
    "plt.savefig(\"figures/usage2.png\", dpi=600, bbox_inches=\"tight\")"
   ]
  },
  {
   "cell_type": "markdown",
   "id": "2c9c4393",
   "metadata": {},
   "source": [
    "# Removing Repeaters"
   ]
  },
  {
   "cell_type": "markdown",
   "id": "a5b2bcbc",
   "metadata": {},
   "source": [
    "## Individual cases"
   ]
  },
  {
   "cell_type": "code",
   "execution_count": null,
   "id": "dd53b565",
   "metadata": {},
   "outputs": [],
   "source": [
    "loaded_data = load_data(\"usage/method_reps/5x5/fusion_only/L1\")"
   ]
  },
  {
   "cell_type": "code",
   "execution_count": null,
   "id": "79957742",
   "metadata": {},
   "outputs": [],
   "source": [
    "N_loaded = json_graph.node_link_graph(loaded_data[\"network_data\"])\n",
    "users = [tuple(user) for user in loaded_data[\"users\"]]\n",
    "min_usage = 0.1\n",
    "\n",
    "num_removed = remove_nodes(N_loaded, min_usage, users)\n",
    "\n",
    "print(num_removed)\n",
    "\n",
    "reset_graph_state(N_loaded)\n",
    "reset_graph_usage(N_loaded)"
   ]
  },
  {
   "cell_type": "code",
   "execution_count": null,
   "id": "f9b78732",
   "metadata": {},
   "outputs": [],
   "source": [
    "timesteps = 5000\n",
    "reps = 1000\n",
    "protocol = MPC_protocol\n",
    "er, multipartite_gen_time, links_used = protocol(N_loaded, users, timesteps, reps, count_fusion=True)\n",
    "print(er)"
   ]
  },
  {
   "cell_type": "code",
   "execution_count": null,
   "id": "e6943ff8",
   "metadata": {},
   "outputs": [],
   "source": [
    "draw_network(N_loaded, \"m\")\n",
    "plt.savefig(\"figures/usage.png\", dpi=600, bbox_inches=\"tight\")"
   ]
  },
  {
   "cell_type": "code",
   "execution_count": null,
   "id": "7132651e",
   "metadata": {},
   "outputs": [],
   "source": [
    "data_to_save = {\n",
    "    \"min_usage\": min_usage,\n",
    "    \"num_removed\": num_removed,\n",
    "    \"protocol\": str(protocol).split(\" \")[1],\n",
    "    \"size\": loaded_data[\"size\"],\n",
    "    \"length\": loaded_data[\"length\"],\n",
    "    \"Q_c\": loaded_data[\"Q_c\"],\n",
    "    \"p_op\": loaded_data[\"p_op\"],\n",
    "    \"loss_dB\": loaded_data[\"loss_dB\"],\n",
    "    \"timesteps\": timesteps,\n",
    "    \"reps\": reps,\n",
    "    \"users\": users,\n",
    "    \"ER\": er,\n",
    "    \"links_used\": links_used,\n",
    "    \"network_data\": json_graph.node_link_data(N_loaded),\n",
    "}\n",
    "\n",
    "save_data(\"remove_repeaters/usage/5x5/MPC_0.3\", data_to_save)"
   ]
  },
  {
   "cell_type": "markdown",
   "id": "5d3a8cea",
   "metadata": {},
   "source": [
    "## Cut-off range"
   ]
  },
  {
   "cell_type": "code",
   "execution_count": null,
   "id": "a583225a",
   "metadata": {},
   "outputs": [],
   "source": [
    "# loaded_data = load_data(\"usage/method_reps/25x25/MPG_L1\")\n",
    "loaded_data = load_data(\"usage/method_reps/5x5/fusion_only/L1\")"
   ]
  },
  {
   "cell_type": "code",
   "execution_count": null,
   "id": "f74807ed",
   "metadata": {},
   "outputs": [],
   "source": [
    "timesteps = 5000\n",
    "reps = 1000\n",
    "protocol = MPC_protocol\n",
    "users = [tuple(user) for user in loaded_data[\"users\"]]\n",
    "\n",
    "min_usage_range = np.linspace(0, 0.3, 31)\n",
    "num_removed = np.zeros(len(min_usage_range), dtype=int)\n",
    "ER = np.zeros(len(min_usage_range))\n",
    "links_used = np.zeros(len(min_usage_range))\n",
    "\n",
    "for i, min_usage in enumerate(tqdm.tqdm(min_usage_range)):  # tqdm_notebook\n",
    "    N_loaded = json_graph.node_link_graph(loaded_data[\"network_data\"])\n",
    "\n",
    "    removed = remove_nodes(N_loaded, min_usage, users)\n",
    "    num_removed[i] = removed\n",
    "\n",
    "    reset_graph_state(N_loaded)\n",
    "    reset_graph_usage(N_loaded)\n",
    "\n",
    "    er, multipartite_gen_time, links = protocol(N_loaded, users, timesteps, reps, count_fusion=True)\n",
    "    ER[i] = er\n",
    "    links_used[i] = links"
   ]
  },
  {
   "cell_type": "markdown",
   "id": "af8d5578",
   "metadata": {},
   "source": [
    "### Plot "
   ]
  },
  {
   "cell_type": "code",
   "execution_count": null,
   "metadata": {},
   "outputs": [],
   "source": [
    "plot_removed_repeaters(\n",
    "    min_usage_range,\n",
    "    ER,\n",
    "    num_removed,\n",
    "    loaded_data[\"ER\"],\n",
    ")\n",
    "plt.savefig(\"figures/removed_repeaters.png\", dpi=600, bbox_inches=\"tight\")"
   ]
  },
  {
   "cell_type": "markdown",
   "id": "ee4e9cb3",
   "metadata": {},
   "source": [
    "### Save"
   ]
  },
  {
   "cell_type": "code",
   "execution_count": null,
   "id": "92286fc9",
   "metadata": {},
   "outputs": [],
   "source": [
    "data_to_save = {\n",
    "    \"min_usage_range\": min_usage_range.tolist(),\n",
    "    \"num_removed\": num_removed.tolist(),\n",
    "    \"protocol\": str(protocol).split(\" \")[1],\n",
    "    \"size\": loaded_data[\"size\"],\n",
    "    \"length\": loaded_data[\"length\"],\n",
    "    \"Q_c\": loaded_data[\"Q_c\"],\n",
    "    \"p_op\": loaded_data[\"p_op\"],\n",
    "    \"loss_dB\": loaded_data[\"loss_dB\"],\n",
    "    \"timesteps\": timesteps,\n",
    "    \"reps\": reps,\n",
    "    \"users\": users,\n",
    "    \"ER\": ER.tolist(),\n",
    "    \"base_ER\": loaded_data[\"ER\"],\n",
    "    \"links_used\": links_used.tolist(),\n",
    "}\n",
    "\n",
    "save_data(\"remove_repeaters/usage/5x5/MPC_range\", data_to_save)"
   ]
  },
  {
   "cell_type": "markdown",
   "id": "6e217cf6",
   "metadata": {},
   "source": [
    "### Load and plot"
   ]
  },
  {
   "cell_type": "code",
   "execution_count": null,
   "id": "abcc53ff",
   "metadata": {},
   "outputs": [],
   "source": [
    "loaded_removed_data = load_data(\"remove_repeaters/usage/5x5/MPC_range\")"
   ]
  },
  {
   "cell_type": "code",
   "execution_count": null,
   "id": "a9e7c070",
   "metadata": {},
   "outputs": [],
   "source": [
    "plot_removed_repeaters(\n",
    "    loaded_removed_data[\"min_usage_range\"],\n",
    "    loaded_removed_data[\"ER\"],\n",
    "    loaded_removed_data[\"num_removed\"],\n",
    "    loaded_removed_data[\"base_ER\"],\n",
    ")\n",
    "plt.savefig(\"figures/removed_repeaters2.png\", dpi=600, bbox_inches=\"tight\")"
   ]
  },
  {
   "cell_type": "markdown",
   "id": "bc7a7a82",
   "metadata": {},
   "source": [
    "## ER v Length "
   ]
  },
  {
   "cell_type": "code",
   "execution_count": null,
   "id": "7dbec181",
   "metadata": {},
   "outputs": [],
   "source": [
    "loaded_data = load_data(\"usage/method_reps/5x5/fusion_only/L1\")"
   ]
  },
  {
   "cell_type": "code",
   "execution_count": null,
   "id": "86eeded4",
   "metadata": {},
   "outputs": [],
   "source": [
    "timesteps = 1000\n",
    "reps = 200\n",
    "protocol = MPC_protocol\n",
    "p_op = loaded_data[\"p_op\"]\n",
    "loss_dB = loaded_data[\"loss_dB\"]\n",
    "users = [tuple(user) for user in loaded_data[\"users\"]]\n",
    "\n",
    "min_usage_options = np.array([0, 0.03, 0.1, 0.2, 0.3])\n",
    "num_removed = np.zeros(len(min_usage_options), dtype=int)\n",
    "\n",
    "length_range = np.linspace(0, 30, 100)\n",
    "ER = np.zeros((len(min_usage_options), len(length_range)))\n",
    "links_used = np.zeros((len(min_usage_options), len(length_range)))\n",
    "\n",
    "for i, min_usage in enumerate(min_usage_options):  \n",
    "    N_loaded = json_graph.node_link_graph(loaded_data[\"network_data\"])\n",
    "    removed = remove_nodes(N_loaded, min_usage, users)\n",
    "    num_removed[i] = removed\n",
    "\n",
    "    for j, length in enumerate(tqdm.tqdm(length_range)):  # tqdm_notebook\n",
    "        set_edge_length(N_loaded, length, p_op=p_op, loss_dB=loss_dB)\n",
    "        reset_graph_state(N_loaded)\n",
    "        reset_graph_usage(N_loaded)\n",
    "\n",
    "        if (length > 17):\n",
    "            break\n",
    "\n",
    "        er, multipartite_gen_time, links = protocol(N_loaded, users, timesteps=timesteps, reps=reps, count_fusion=True)\n",
    "        ER[i, j] += er\n",
    "        links_used[i, j] = links"
   ]
  },
  {
   "cell_type": "code",
   "execution_count": null,
   "id": "b5690664",
   "metadata": {},
   "outputs": [],
   "source": [
    "data_to_save = {\n",
    "    \"min_usage_options\": min_usage_options.tolist(),\n",
    "    \"num_removed\": num_removed.tolist(),\n",
    "    \"protocol\": str(protocol).split(\" \")[1],\n",
    "    \"size\": loaded_data[\"size\"],\n",
    "    \"Q_c\": loaded_data[\"Q_c\"],\n",
    "    \"p_op\": loaded_data[\"p_op\"],\n",
    "    \"loss_dB\": loaded_data[\"loss_dB\"],\n",
    "    \"timesteps\": timesteps,\n",
    "    \"reps\": reps,\n",
    "    \"users\": users,\n",
    "    \"datapoints\": length_range.size,\n",
    "    \"length_range\": length_range.tolist(),\n",
    "    \"ER\": ER.tolist(),\n",
    "    \"links_used\": links_used.tolist(),\n",
    "}\n",
    "\n",
    "save_data(\"remove_repeaters/ER_len/5x5/MPC\", data_to_save)"
   ]
  },
  {
   "cell_type": "code",
   "execution_count": null,
   "id": "42fd96ac",
   "metadata": {},
   "outputs": [],
   "source": [
    "ER_len_data = load_data(\"remove_repeaters/ER_len/5x5/MPC\")"
   ]
  },
  {
   "cell_type": "code",
   "execution_count": null,
   "id": "32df86f7",
   "metadata": {},
   "outputs": [],
   "source": [
    "plot_er_len(num_removed, ER, length_range, loss_dB=loaded_data[\"loss_dB\"], p_op=loaded_data[\"p_op\"], x_lim=30)\n",
    "# plot_er_len(ER_len_data[\"num_removed\"], ER_len_data[\"ER\"], ER_len_data[\"length_range\"], loss_dB=ER_len_data[\"loss_dB\"], p_op=ER_len_data[\"p_op\"], x_lim=30)\n",
    "plt.savefig(\"figures/ER_v_length.png\", dpi=600, bbox_inches=\"tight\")"
   ]
  }
 ],
 "metadata": {
  "kernelspec": {
   "display_name": "Python 3",
   "language": "python",
   "name": "python3"
  },
  "language_info": {
   "codemirror_mode": {
    "name": "ipython",
    "version": 3
   },
   "file_extension": ".py",
   "mimetype": "text/x-python",
   "name": "python",
   "nbconvert_exporter": "python",
   "pygments_lexer": "ipython3",
   "version": "3.11.5"
  },
  "vscode": {
   "interpreter": {
    "hash": "b0fa6594d8f4cbf19f97940f81e996739fb7646882a419484c72d19e05852a7e"
   }
  }
 },
 "nbformat": 4,
 "nbformat_minor": 5
}
